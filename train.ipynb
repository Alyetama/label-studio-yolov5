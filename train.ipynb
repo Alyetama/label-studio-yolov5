{
  "cells": [
    {
      "cell_type": "markdown",
      "metadata": {
        "id": "oRwqftIgvKqz"
      },
      "source": [
        "## Getting Started"
      ]
    },
    {
      "cell_type": "code",
      "execution_count": null,
      "metadata": {
        "id": "bxW9gUwhmme8"
      },
      "outputs": [],
      "source": [
        "! git clone 'https://github.com/Alyetama/prepare-yolov5-dataset.git'\n",
        "%cd prepare-yolov5-dataset\n",
        "! pip install -r requirements.txt"
      ]
    },
    {
      "cell_type": "code",
      "execution_count": null,
      "metadata": {
        "id": "BFg59TtF7aeN"
      },
      "outputs": [],
      "source": [
        "! mv .env.example .env\n",
        "# Show hidden files by clicking on the eye icon, then edit the `.env` file."
      ]
    },
    {
      "cell_type": "code",
      "execution_count": null,
      "metadata": {
        "id": "HovehHAcnRJT"
      },
      "outputs": [],
      "source": [
        "! git clone https://github.com/ultralytics/yolov5\n",
        "! pip install -r yolov5/requirements.txt"
      ]
    },
    {
      "cell_type": "code",
      "execution_count": null,
      "metadata": {
        "id": "cl0lvoUJmyPY"
      },
      "outputs": [],
      "source": [
        "# @markdown Label Studio Project ID:\n",
        "PROJECT_ID = 1  # @param\n",
        "! python prepare_dataset.py -p \"$PROJECT_ID\""
      ]
    },
    {
      "cell_type": "code",
      "execution_count": null,
      "metadata": {
        "id": "zeqNBQoStgRI"
      },
      "outputs": [],
      "source": [
        "PRETRAINED_WEIGHTS = 'https://github.com/microsoft/CameraTraps/releases/download/v5.0/md_v5a.0.0.pt'  # @param\n",
        "EPOCHS = 100  # @param\n",
        "BATCH_SIZE = 16  # @param"
      ]
    },
    {
      "cell_type": "markdown",
      "metadata": {
        "id": "ClspePOZvb8j"
      },
      "source": [
        "### Training Options"
      ]
    },
    {
      "cell_type": "markdown",
      "metadata": {
        "id": "Sp5vSCv1uRhe"
      },
      "source": [
        "```shell\n",
        "usage: train.py [-h] [--weights WEIGHTS] [--cfg CFG] [--data DATA] [--hyp HYP]\n",
        "                [--epochs EPOCHS] [--batch-size BATCH_SIZE] [--imgsz IMGSZ]\n",
        "                [--rect] [--resume [RESUME]] [--nosave] [--noval]\n",
        "                [--noautoanchor] [--noplots] [--evolve [EVOLVE]]\n",
        "                [--bucket BUCKET] [--cache [CACHE]] [--image-weights]\n",
        "                [--device DEVICE] [--multi-scale] [--single-cls]\n",
        "                [--optimizer {SGD,Adam,AdamW}] [--sync-bn] [--workers WORKERS]\n",
        "                [--project PROJECT] [--name NAME] [--exist-ok] [--quad]\n",
        "                [--cos-lr] [--label-smoothing LABEL_SMOOTHING]\n",
        "                [--patience PATIENCE] [--freeze FREEZE [FREEZE ...]]\n",
        "                [--save-period SAVE_PERIOD] [--seed SEED]\n",
        "                [--local_rank LOCAL_RANK] [--entity ENTITY]\n",
        "                [--upload_dataset [UPLOAD_DATASET]]\n",
        "                [--bbox_interval BBOX_INTERVAL]\n",
        "                [--artifact_alias ARTIFACT_ALIAS]\n",
        "\n",
        "optional arguments:\n",
        "  -h, --help            show this help message and exit\n",
        "  --weights WEIGHTS     initial weights path\n",
        "  --cfg CFG             model.yaml path\n",
        "  --data DATA           dataset.yaml path\n",
        "  --hyp HYP             hyperparameters path\n",
        "  --epochs EPOCHS\n",
        "  --batch-size BATCH_SIZE\n",
        "                        total batch size for all GPUs, -1 for autobatch\n",
        "  --imgsz IMGSZ, --img IMGSZ, --img-size IMGSZ\n",
        "                        train, val image size (pixels)\n",
        "  --rect                rectangular training\n",
        "  --resume [RESUME]     resume most recent training\n",
        "  --nosave              only save final checkpoint\n",
        "  --noval               only validate final epoch\n",
        "  --noautoanchor        disable AutoAnchor\n",
        "  --noplots             save no plot files\n",
        "  --evolve [EVOLVE]     evolve hyperparameters for x generations\n",
        "  --bucket BUCKET       gsutil bucket\n",
        "  --cache [CACHE]       --cache images in \"ram\" (default) or \"disk\"\n",
        "  --image-weights       use weighted image selection for training\n",
        "  --device DEVICE       cuda device, i.e. 0 or 0,1,2,3 or cpu\n",
        "  --multi-scale         vary img-size +/- 50%\n",
        "  --single-cls          train multi-class data as single-class\n",
        "  --optimizer {SGD,Adam,AdamW}\n",
        "                        optimizer\n",
        "  --sync-bn             use SyncBatchNorm, only available in DDP mode\n",
        "  --workers WORKERS     max dataloader workers (per RANK in DDP mode)\n",
        "  --project PROJECT     save to project/name\n",
        "  --name NAME           save to project/name\n",
        "  --exist-ok            existing project/name ok, do not increment\n",
        "  --quad                quad dataloader\n",
        "  --cos-lr              cosine LR scheduler\n",
        "  --label-smoothing LABEL_SMOOTHING\n",
        "                        Label smoothing epsilon\n",
        "  --patience PATIENCE   EarlyStopping patience (epochs without improvement)\n",
        "  --freeze FREEZE [FREEZE ...]\n",
        "                        Freeze layers: backbone=10, first3=0 1 2\n",
        "  --save-period SAVE_PERIOD\n",
        "                        Save checkpoint every x epochs (disabled if < 1)\n",
        "  --seed SEED           Global training seed\n",
        "  --local_rank LOCAL_RANK\n",
        "                        Automatic DDP Multi-GPU argument, do not modify\n",
        "  --entity ENTITY       W&B: Entity\n",
        "  --upload_dataset [UPLOAD_DATASET]\n",
        "                        W&B: Upload data, \"val\" option\n",
        "  --bbox_interval BBOX_INTERVAL\n",
        "                        W&B: Set bounding-box image logging interval\n",
        "  --artifact_alias ARTIFACT_ALIAS\n",
        "                        W&B: Version of dataset artifact to use\n",
        "```"
      ]
    },
    {
      "cell_type": "markdown",
      "metadata": {
        "id": "YHWG7uN6vTZZ"
      },
      "source": [
        "## Train"
      ]
    },
    {
      "cell_type": "code",
      "execution_count": null,
      "metadata": {
        "id": "w-KDkW_YtHH6"
      },
      "outputs": [],
      "source": [
        "! python yolov5/train.py \\\n",
        "  --data 'dataset/dataset_config.yml' \\\n",
        "  --weights \"$PRETRAINED_WEIGHTS\" \\\n",
        "  --epochs \"$EPOCHS\" \\\n",
        "  --batch \"$BATCH_SIZE\""
      ]
    }
  ],
  "metadata": {
    "accelerator": "GPU",
    "colab": {
      "collapsed_sections": [
        "ClspePOZvb8j"
      ],
      "name": "Untitled25.ipynb",
      "private_outputs": true,
      "provenance": []
    },
    "gpuClass": "standard",
    "kernelspec": {
      "display_name": "Python 3",
      "name": "python3"
    },
    "language_info": {
      "name": "python"
    }
  },
  "nbformat": 4,
  "nbformat_minor": 0
}
